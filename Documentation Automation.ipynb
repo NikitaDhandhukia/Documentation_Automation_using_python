{
 "cells": [
  {
   "cell_type": "code",
   "execution_count": 76,
   "id": "2795cda0",
   "metadata": {},
   "outputs": [],
   "source": [
    "class Documentation:\n",
    "    packing_num = \"\"\n",
    "    gasket_num = \"\"\n",
    "    seal_num = \"\"\n",
    "    washer_num = \"\"\n",
    "    def __init__(self, part):\n",
    "         self.part = part\n",
    "    def replace(self):\n",
    "         print(\"Discard the {packing_num} packings, {gasket_num} gaskets, {seal_num} seals, and {washer_num} washers \\\n",
    "from {part}.\".format(packing_num=self.packing_num, gasket_num=self.gasket_num, seal_num=self.seal_num,\\\n",
    "washer_num=self.washer_num, part=self.part))"
   ]
  },
  {
   "cell_type": "code",
   "execution_count": 77,
   "id": "52cd18d7",
   "metadata": {},
   "outputs": [
    {
     "name": "stdout",
     "output_type": "stream",
     "text": [
      "Discard the 3 packings, 2 gaskets, 6 seals, and 12 washers from Cylinder Head.\n",
      "Discard the 2 packings, 4 gaskets, 8 seals, and 16 washers from Brake Shoe.\n"
     ]
    }
   ],
   "source": [
    "class Engine_head(Documentation):\n",
    "    packing_num = \"3\"\n",
    "    gasket_num = \"2\"\n",
    "    seal_num = \"6\"\n",
    "    washer_num = \"12\"\n",
    "\n",
    "Cylinder_Head = Engine_head(\"Cylinder Head\")\n",
    "Cylinder_Head.replace()\n",
    "\n",
    "class brake(Documentation):\n",
    "    packing_num = \"2\"\n",
    "    gasket_num = \"4\"\n",
    "    seal_num = \"8\"\n",
    "    washer_num = \"16\"\n",
    "\n",
    "brake_shoe = brake(\"Brake Shoe\")\n",
    "brake_shoe.replace()"
   ]
  },
  {
   "cell_type": "code",
   "execution_count": 87,
   "id": "9188bdad",
   "metadata": {},
   "outputs": [],
   "source": [
    "class Pressure:\n",
    "    psi_num = \"\"\n",
    "    def __init__(self, part):\n",
    "         self.part = part\n",
    "    def replace(self):\n",
    "        #1 BAR is equal to 14.5038 PSI.    \n",
    "        print(\"Extra load: A class of {part} tyre designed to carry a heavier maximum load at {psi_num} psi ({bar_num} bar) \\\n",
    "for {part}s. Increasing the inflation pressure beyond this pressure will not increase the {part}'s load carrying \\\n",
    "capability of tyre.\\n\".format( part=self.part, psi_num=self.psi_num, bar_num= self.bar_num))            "
   ]
  },
  {
   "cell_type": "code",
   "execution_count": 88,
   "id": "15eddb34",
   "metadata": {},
   "outputs": [
    {
     "name": "stdout",
     "output_type": "stream",
     "text": [
      "Extra load: A class of P-Metric tyre designed to carry a heavier maximum load at 43 psi (3.0 bar) for P-Metrics. Increasing the inflation pressure beyond this pressure will not increase the P-Metric's load carrying capability of tyre.\n",
      "\n",
      "Extra load: A class of Metric tyre designed to carry a heavier maximum load at 41 psi (2.8 bar) for Metrics. Increasing the inflation pressure beyond this pressure will not increase the Metric's load carrying capability of tyre.\n",
      "\n"
     ]
    }
   ],
   "source": [
    "class Tyre(Pressure):\n",
    "    psi_num = \"43\"\n",
    "    bar_num = round((int(psi_num)/14.5038), 1)\n",
    "\n",
    "P_Metric = Tyre(\"P-Metric\")\n",
    "P_Metric.replace()\n",
    "\n",
    "class Tyre(Pressure):\n",
    "    psi_num = \"41\"\n",
    "    bar_num = round((int(psi_num)/14.5038), 1)\n",
    "\n",
    "Metric = Tyre(\"Metric\")\n",
    "Metric.replace()"
   ]
  },
  {
   "cell_type": "code",
   "execution_count": null,
   "id": "eaef7ef4",
   "metadata": {},
   "outputs": [],
   "source": []
  }
 ],
 "metadata": {
  "kernelspec": {
   "display_name": "Python 3 (ipykernel)",
   "language": "python",
   "name": "python3"
  },
  "language_info": {
   "codemirror_mode": {
    "name": "ipython",
    "version": 3
   },
   "file_extension": ".py",
   "mimetype": "text/x-python",
   "name": "python",
   "nbconvert_exporter": "python",
   "pygments_lexer": "ipython3",
   "version": "3.9.13"
  }
 },
 "nbformat": 4,
 "nbformat_minor": 5
}
